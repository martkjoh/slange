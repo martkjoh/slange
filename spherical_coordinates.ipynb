{
 "cells": [
  {
   "cell_type": "code",
   "execution_count": 1,
   "metadata": {},
   "outputs": [
    {
     "name": "stdout",
     "output_type": "stream",
     "text": [
      "['/home/mjohnsrud/repos/slange', '/usr/ds/anaconda3/lib/python39.zip', '/usr/ds/anaconda3/lib/python3.9', '/usr/ds/anaconda3/lib/python3.9/lib-dynload', '', '/usr/ds/anaconda3/lib/python3.9/site-packages']\n"
     ]
    }
   ],
   "source": [
    "import sys\n",
    "print(sys.path)"
   ]
  },
  {
   "cell_type": "code",
   "execution_count": 45,
   "metadata": {},
   "outputs": [
    {
     "data": {
      "text/latex": [
       "$\\left[\\begin{matrix}1 & 0 & 0\\\\0 & r^{2} & 0\\\\0 & 0 & r^{2} \\sin^{2}{\\left(θ \\right)}\\end{matrix}\\right]$"
      ],
      "text/plain": [
       "<IPython.core.display.Latex object>"
      ]
     },
     "metadata": {},
     "output_type": "display_data"
    },
    {
     "data": {
      "text/latex": [
       "$\\Gamma^r_{\\alpha \\beta} = \\left[\\begin{matrix}0 & 0 & 0\\\\0 & - r & 0\\\\0 & 0 & - r \\sin^{2}{\\left(θ \\right)}\\end{matrix}\\right]$"
      ],
      "text/plain": [
       "<IPython.core.display.Latex object>"
      ]
     },
     "metadata": {},
     "output_type": "display_data"
    },
    {
     "data": {
      "text/latex": [
       "$\\Gamma^θ_{\\alpha \\beta} = \\left[\\begin{matrix}0 & \\frac{1}{r} & 0\\\\\\frac{1}{r} & 0 & 0\\\\0 & 0 & - \\frac{\\sin{\\left(2 θ \\right)}}{2}\\end{matrix}\\right]$"
      ],
      "text/plain": [
       "<IPython.core.display.Latex object>"
      ]
     },
     "metadata": {},
     "output_type": "display_data"
    },
    {
     "data": {
      "text/latex": [
       "$\\Gamma^φ_{\\alpha \\beta} = \\left[\\begin{matrix}0 & 0 & \\frac{1}{r}\\\\0 & 0 & \\frac{1}{\\tan{\\left(θ \\right)}}\\\\\\frac{1}{r} & \\frac{1}{\\tan{\\left(θ \\right)}} & 0\\end{matrix}\\right]$"
      ],
      "text/plain": [
       "<IPython.core.display.Latex object>"
      ]
     },
     "metadata": {},
     "output_type": "display_data"
    },
    {
     "name": "stdout",
     "output_type": "stream",
     "text": [
      "Ricci tensor:\n"
     ]
    },
    {
     "data": {
      "text/latex": [
       "$\\left[\\begin{matrix}0 & 0 & 0\\\\0 & 0 & 0\\\\0 & 0 & 0\\end{matrix}\\right]$"
      ],
      "text/plain": [
       "<IPython.core.display.Latex object>"
      ]
     },
     "metadata": {},
     "output_type": "display_data"
    },
    {
     "name": "stdout",
     "output_type": "stream",
     "text": [
      "Ricci scalar:\n"
     ]
    },
    {
     "data": {
      "text/latex": [
       "$0$"
      ],
      "text/plain": [
       "<IPython.core.display.Latex object>"
      ]
     },
     "metadata": {},
     "output_type": "display_data"
    }
   ],
   "source": [
    "from calc.calcs.tensors import *\n",
    "flat_spherical_3d()"
   ]
  },
  {
   "cell_type": "code",
   "execution_count": 3,
   "metadata": {},
   "outputs": [
    {
     "data": {
      "text/latex": [
       "$$g=\\left[\\begin{matrix}1 & 0 & 0\\\\0 & r^{2} & 0\\\\0 & 0 & r^{2} \\sin^{2}{\\left(\\theta \\right)}\\end{matrix}\\right]$$"
      ],
      "text/plain": [
       "<IPython.core.display.Latex object>"
      ]
     },
     "metadata": {},
     "output_type": "display_data"
    },
    {
     "data": {
      "text/latex": [
       "$$\\Gamma^r_{\\alpha \\beta} =\\left[\\begin{matrix}0 & 0 & 0\\\\0 & - r & 0\\\\0 & 0 & - r \\sin^{2}{\\left(\\theta \\right)}\\end{matrix}\\right]$$"
      ],
      "text/plain": [
       "<IPython.core.display.Latex object>"
      ]
     },
     "metadata": {},
     "output_type": "display_data"
    },
    {
     "data": {
      "text/latex": [
       "$$\\Gamma^\\theta_{\\alpha \\beta} =\\left[\\begin{matrix}0 & \\frac{1}{r} & 0\\\\\\frac{1}{r} & 0 & 0\\\\0 & 0 & - \\sin{\\left(\\theta \\right)} \\cos{\\left(\\theta \\right)}\\end{matrix}\\right]$$"
      ],
      "text/plain": [
       "<IPython.core.display.Latex object>"
      ]
     },
     "metadata": {},
     "output_type": "display_data"
    },
    {
     "data": {
      "text/latex": [
       "$$\\Gamma^\\varphi_{\\alpha \\beta} =\\left[\\begin{matrix}0 & 0 & \\frac{1}{r}\\\\0 & 0 & \\frac{\\cos{\\left(\\theta \\right)}}{\\sin{\\left(\\theta \\right)}}\\\\\\frac{1}{r} & \\frac{\\cos{\\left(\\theta \\right)}}{\\sin{\\left(\\theta \\right)}} & 0\\end{matrix}\\right]$$"
      ],
      "text/plain": [
       "<IPython.core.display.Latex object>"
      ]
     },
     "metadata": {},
     "output_type": "display_data"
    },
    {
     "name": "stdout",
     "output_type": "stream",
     "text": [
      "\\Gamma^r_{i j} =&\\left[\\begin{matrix}0 & 0 & 0\\\\0 & - r & 0\\\\0 & 0 & - r \\sin^{2}{\\left(\\theta \\right)}\\end{matrix}\\right]\\\\\n",
      "\\Gamma^\\theta_{i j} =&\\left[\\begin{matrix}0 & \\frac{1}{r} & 0\\\\\\frac{1}{r} & 0 & 0\\\\0 & 0 & - \\sin{\\left(\\theta \\right)} \\cos{\\left(\\theta \\right)}\\end{matrix}\\right]\\\\\n",
      "\\Gamma^\\varphi_{i j} =&\\left[\\begin{matrix}0 & 0 & \\frac{1}{r}\\\\0 & 0 & \\frac{\\cos{\\left(\\theta \\right)}}{\\sin{\\left(\\theta \\right)}}\\\\\\frac{1}{r} & \\frac{\\cos{\\left(\\theta \\right)}}{\\sin{\\left(\\theta \\right)}} & 0\\end{matrix}\\right]\\\\\n"
     ]
    }
   ],
   "source": [
    "r = symbols(\"r\")\n",
    "t = symbols('\\\\theta')\n",
    "p = symbols('\\\\varphi')\n",
    "var = (r, t, p)\n",
    "dim = len(var)\n",
    "\n",
    "x1 = r * sin(t) * cos(p)\n",
    "x2 = r * sin(t) * sin(p)\n",
    "x3 = r * cos(t)\n",
    "\n",
    "J = Matrix([x1, x2, x3]).jacobian(var)\n",
    "g = np.array(simplify(J.T *J))\n",
    "\n",
    "g_inv = get_g_inv(g)\n",
    "\n",
    "C = Christoffel(g, g_inv, var)\n",
    "print_tensor(g, name=\"g\")\n",
    "print_christoffel(C, var)\n",
    "\n",
    "output = []\n",
    "for i in range(len(var)):\n",
    "    txt = \"\" \n",
    "    txt += \"\\Gamma^\" + sp.latex(var[i]) + \"_{i j} =&\"\n",
    "    txt += sp.latex(Matrix(C[i])) + \"\\\\\\\\\"\n",
    "    print(txt)\n"
   ]
  },
  {
   "cell_type": "code",
   "execution_count": 49,
   "metadata": {},
   "outputs": [
    {
     "data": {
      "text/latex": [
       "$\\displaystyle - r$"
      ],
      "text/plain": [
       "-r"
      ]
     },
     "execution_count": 49,
     "metadata": {},
     "output_type": "execute_result"
    }
   ],
   "source": [
    "C[0,1,1]"
   ]
  },
  {
   "cell_type": "code",
   "execution_count": 81,
   "metadata": {},
   "outputs": [
    {
     "data": {
      "text/latex": [
       "$$T=\\left[\\begin{matrix}1 & 0 & 0\\\\0 & r^{2} & 0\\\\0 & 0 & r^{2} \\sin^{2}{\\left(\\theta \\right)}\\end{matrix}\\right]$$"
      ],
      "text/plain": [
       "<IPython.core.display.Latex object>"
      ]
     },
     "metadata": {},
     "output_type": "display_data"
    },
    {
     "data": {
      "text/latex": [
       "$$T=\\left[\\begin{matrix}\\operatorname{v_{r}}{\\left(r,\\theta,\\varphi \\right)}\\\\\\operatorname{v_{\\theta}}{\\left(r,\\theta,\\varphi \\right)}\\\\\\operatorname{v_{\\varphi}}{\\left(r,\\theta,\\varphi \\right)}\\end{matrix}\\right]$$"
      ],
      "text/plain": [
       "<IPython.core.display.Latex object>"
      ]
     },
     "metadata": {},
     "output_type": "display_data"
    },
    {
     "data": {
      "text/latex": [
       "$$T=\\left[\\begin{matrix}\\frac{\\partial}{\\partial r} \\operatorname{v_{r}}{\\left(r,\\theta,\\varphi \\right)} & \\frac{\\partial}{\\partial r} \\operatorname{v_{\\theta}}{\\left(r,\\theta,\\varphi \\right)} + \\frac{\\operatorname{v_{\\theta}}{\\left(r,\\theta,\\varphi \\right)}}{r} & \\frac{\\partial}{\\partial r} \\operatorname{v_{\\varphi}}{\\left(r,\\theta,\\varphi \\right)} + \\frac{\\operatorname{v_{\\varphi}}{\\left(r,\\theta,\\varphi \\right)}}{r}\\\\- r \\operatorname{v_{\\theta}}{\\left(r,\\theta,\\varphi \\right)} + \\frac{\\partial}{\\partial \\theta} \\operatorname{v_{r}}{\\left(r,\\theta,\\varphi \\right)} & \\frac{\\partial}{\\partial \\theta} \\operatorname{v_{\\theta}}{\\left(r,\\theta,\\varphi \\right)} + \\frac{\\operatorname{v_{r}}{\\left(r,\\theta,\\varphi \\right)}}{r} & \\frac{\\operatorname{v_{\\varphi}}{\\left(r,\\theta,\\varphi \\right)} \\cos{\\left(\\theta \\right)}}{\\sin{\\left(\\theta \\right)}} + \\frac{\\partial}{\\partial \\theta} \\operatorname{v_{\\varphi}}{\\left(r,\\theta,\\varphi \\right)}\\\\- r \\operatorname{v_{\\varphi}}{\\left(r,\\theta,\\varphi \\right)} \\sin^{2}{\\left(\\theta \\right)} + \\frac{\\partial}{\\partial \\varphi} \\operatorname{v_{r}}{\\left(r,\\theta,\\varphi \\right)} & - \\operatorname{v_{\\varphi}}{\\left(r,\\theta,\\varphi \\right)} \\sin{\\left(\\theta \\right)} \\cos{\\left(\\theta \\right)} + \\frac{\\partial}{\\partial \\varphi} \\operatorname{v_{\\theta}}{\\left(r,\\theta,\\varphi \\right)} & \\frac{\\operatorname{v_{\\theta}}{\\left(r,\\theta,\\varphi \\right)} \\cos{\\left(\\theta \\right)}}{\\sin{\\left(\\theta \\right)}} + \\frac{\\partial}{\\partial \\varphi} \\operatorname{v_{\\varphi}}{\\left(r,\\theta,\\varphi \\right)} + \\frac{\\operatorname{v_{r}}{\\left(r,\\theta,\\varphi \\right)}}{r}\\end{matrix}\\right]$$"
      ],
      "text/plain": [
       "<IPython.core.display.Latex object>"
      ]
     },
     "metadata": {},
     "output_type": "display_data"
    },
    {
     "data": {
      "text/latex": [
       "$$T=\\left[\\begin{matrix}\\frac{\\partial}{\\partial r} \\operatorname{v_{r}}{\\left(r,\\theta,\\varphi \\right)} & \\frac{\\partial}{\\partial r} \\operatorname{v_{\\theta}}{\\left(r,\\theta,\\varphi \\right)} + \\frac{\\operatorname{v_{\\theta}}{\\left(r,\\theta,\\varphi \\right)}}{r} & \\frac{\\partial}{\\partial r} \\operatorname{v_{\\varphi}}{\\left(r,\\theta,\\varphi \\right)} + \\frac{\\operatorname{v_{\\varphi}}{\\left(r,\\theta,\\varphi \\right)}}{r}\\\\- \\frac{\\operatorname{v_{\\theta}}{\\left(r,\\theta,\\varphi \\right)}}{r} + \\frac{\\frac{\\partial}{\\partial \\theta} \\operatorname{v_{r}}{\\left(r,\\theta,\\varphi \\right)}}{r^{2}} & \\frac{\\frac{\\partial}{\\partial \\theta} \\operatorname{v_{\\theta}}{\\left(r,\\theta,\\varphi \\right)}}{r^{2}} + \\frac{\\operatorname{v_{r}}{\\left(r,\\theta,\\varphi \\right)}}{r^{3}} & \\frac{\\operatorname{v_{\\varphi}}{\\left(r,\\theta,\\varphi \\right)} \\cos{\\left(\\theta \\right)}}{r^{2} \\sin{\\left(\\theta \\right)}} + \\frac{\\frac{\\partial}{\\partial \\theta} \\operatorname{v_{\\varphi}}{\\left(r,\\theta,\\varphi \\right)}}{r^{2}}\\\\- \\frac{\\operatorname{v_{\\varphi}}{\\left(r,\\theta,\\varphi \\right)}}{r} + \\frac{\\frac{\\partial}{\\partial \\varphi} \\operatorname{v_{r}}{\\left(r,\\theta,\\varphi \\right)}}{r^{2} \\sin^{2}{\\left(\\theta \\right)}} & - \\frac{\\operatorname{v_{\\varphi}}{\\left(r,\\theta,\\varphi \\right)} \\cos{\\left(\\theta \\right)}}{r^{2} \\sin{\\left(\\theta \\right)}} + \\frac{\\frac{\\partial}{\\partial \\varphi} \\operatorname{v_{\\theta}}{\\left(r,\\theta,\\varphi \\right)}}{r^{2} \\sin^{2}{\\left(\\theta \\right)}} & \\frac{\\operatorname{v_{\\theta}}{\\left(r,\\theta,\\varphi \\right)} \\cos{\\left(\\theta \\right)}}{r^{2} \\sin^{3}{\\left(\\theta \\right)}} + \\frac{\\frac{\\partial}{\\partial \\varphi} \\operatorname{v_{\\varphi}}{\\left(r,\\theta,\\varphi \\right)}}{r^{2} \\sin^{2}{\\left(\\theta \\right)}} + \\frac{\\operatorname{v_{r}}{\\left(r,\\theta,\\varphi \\right)}}{r^{3} \\sin^{2}{\\left(\\theta \\right)}}\\end{matrix}\\right]$$"
      ],
      "text/plain": [
       "<IPython.core.display.Latex object>"
      ]
     },
     "metadata": {},
     "output_type": "display_data"
    },
    {
     "data": {
      "text/latex": [
       "$$T=\\left[\\begin{matrix}2 \\frac{\\partial}{\\partial r} \\operatorname{v_{r}}{\\left(r,\\theta,\\varphi \\right)} & \\frac{\\partial}{\\partial r} \\operatorname{v_{\\theta}}{\\left(r,\\theta,\\varphi \\right)} + \\frac{\\frac{\\partial}{\\partial \\theta} \\operatorname{v_{r}}{\\left(r,\\theta,\\varphi \\right)}}{r^{2}} & \\frac{\\partial}{\\partial r} \\operatorname{v_{\\varphi}}{\\left(r,\\theta,\\varphi \\right)} + \\frac{\\frac{\\partial}{\\partial \\varphi} \\operatorname{v_{r}}{\\left(r,\\theta,\\varphi \\right)}}{r^{2} \\sin^{2}{\\left(\\theta \\right)}}\\\\\\frac{\\partial}{\\partial r} \\operatorname{v_{\\theta}}{\\left(r,\\theta,\\varphi \\right)} + \\frac{\\frac{\\partial}{\\partial \\theta} \\operatorname{v_{r}}{\\left(r,\\theta,\\varphi \\right)}}{r^{2}} & \\frac{2 \\frac{\\partial}{\\partial \\theta} \\operatorname{v_{\\theta}}{\\left(r,\\theta,\\varphi \\right)}}{r^{2}} + \\frac{2 \\operatorname{v_{r}}{\\left(r,\\theta,\\varphi \\right)}}{r^{3}} & \\frac{\\frac{\\partial}{\\partial \\theta} \\operatorname{v_{\\varphi}}{\\left(r,\\theta,\\varphi \\right)}}{r^{2}} + \\frac{\\frac{\\partial}{\\partial \\varphi} \\operatorname{v_{\\theta}}{\\left(r,\\theta,\\varphi \\right)}}{r^{2} \\sin^{2}{\\left(\\theta \\right)}}\\\\\\frac{\\partial}{\\partial r} \\operatorname{v_{\\varphi}}{\\left(r,\\theta,\\varphi \\right)} + \\frac{\\frac{\\partial}{\\partial \\varphi} \\operatorname{v_{r}}{\\left(r,\\theta,\\varphi \\right)}}{r^{2} \\sin^{2}{\\left(\\theta \\right)}} & \\frac{\\frac{\\partial}{\\partial \\theta} \\operatorname{v_{\\varphi}}{\\left(r,\\theta,\\varphi \\right)}}{r^{2}} + \\frac{\\frac{\\partial}{\\partial \\varphi} \\operatorname{v_{\\theta}}{\\left(r,\\theta,\\varphi \\right)}}{r^{2} \\sin^{2}{\\left(\\theta \\right)}} & \\frac{2 \\operatorname{v_{\\theta}}{\\left(r,\\theta,\\varphi \\right)} \\cos{\\left(\\theta \\right)}}{r^{2} \\sin^{3}{\\left(\\theta \\right)}} + \\frac{2 \\frac{\\partial}{\\partial \\varphi} \\operatorname{v_{\\varphi}}{\\left(r,\\theta,\\varphi \\right)}}{r^{2} \\sin^{2}{\\left(\\theta \\right)}} + \\frac{2 \\operatorname{v_{r}}{\\left(r,\\theta,\\varphi \\right)}}{r^{3} \\sin^{2}{\\left(\\theta \\right)}}\\end{matrix}\\right]$$"
      ],
      "text/plain": [
       "<IPython.core.display.Latex object>"
      ]
     },
     "metadata": {},
     "output_type": "display_data"
    }
   ],
   "source": [
    "def nabla_vector(u, var):\n",
    "    d = np.zeros((dim, dim), dtype=Symbol)\n",
    "    for i, a in enumerate(var):\n",
    "        for j, b in enumerate(var):\n",
    "            d[i, j] = diff(u[j], var[i])\n",
    "            for k in range(dim):\n",
    "                d[i, j] += C[j,i,k]*u[k]\n",
    "    return d\n",
    "\n",
    "V = np.array([sp.Function('v_r')(r, t, p), sp.Function('v_\\\\theta')(r, t, p), sp.Function('v_\\\\varphi')(r, t, p)], dtype=Symbol)\n",
    "print_tensor(g)\n",
    "u = np.array([Symbol('a')])\n",
    "print_tensor(V)\n",
    "\n",
    "n = nabla_vector(V, var)\n",
    "print_tensor(n)\n",
    "m = g_inv@n\n",
    "for i in range(dim):\n",
    "    for j in range(dim):\n",
    "        m[i, j] = (sp.expand(m[i, j]))\n",
    "print_tensor(m)\n",
    "print_tensor(m+m.T)\n",
    "# print_scalar(sp.expand( m[0,0] + m[1,1] + m[2, 2]  ))\n",
    "# print_tensor(n + n.T)\n",
    "# sigma = g_inv@n + (g_inv@n).T\n",
    "# print_tensor(simplify(sigma))\n",
    "# print(g_inv)"
   ]
  },
  {
   "cell_type": "code",
   "execution_count": null,
   "metadata": {},
   "outputs": [],
   "source": []
  },
  {
   "cell_type": "code",
   "execution_count": 165,
   "metadata": {},
   "outputs": [
    {
     "data": {
      "text/latex": [
       "$\\displaystyle 0$"
      ],
      "text/plain": [
       "0"
      ]
     },
     "execution_count": 165,
     "metadata": {},
     "output_type": "execute_result"
    }
   ],
   "source": [
    "R = Symbol('R')\n",
    "a = (R**3/(2*r**3) - 3*R/(2*r)+1)*cos(t)\n",
    "m = Symbol('m')\n",
    "\n",
    "b = (3*R/(4*r**(1+m)) + R**3/(4*r**(3+m)) - 1/r**m)*sin(t)\n",
    "diff(a, t).subs(r, R)"
   ]
  },
  {
   "cell_type": "code",
   "execution_count": 166,
   "metadata": {},
   "outputs": [
    {
     "data": {
      "text/latex": [
       "$\\displaystyle \\left(\\frac{R^{3} r^{- m - 3}}{4} + \\frac{3 R r^{- m - 1}}{4} - r^{- m}\\right) \\sin{\\left(\\theta \\right)}$"
      ],
      "text/plain": [
       "(R**3*r**(-m - 3)/4 + 3*R*r**(-m - 1)/4 - 1/r**m)*sin(\\theta)"
      ]
     },
     "execution_count": 166,
     "metadata": {},
     "output_type": "execute_result"
    }
   ],
   "source": [
    "b"
   ]
  },
  {
   "cell_type": "code",
   "execution_count": 167,
   "metadata": {},
   "outputs": [
    {
     "data": {
      "text/latex": [
       "$$S=- \\frac{3 \\sin{\\left(\\theta \\right)}}{2 R}$$"
      ],
      "text/plain": [
       "<IPython.core.display.Latex object>"
      ]
     },
     "metadata": {},
     "output_type": "display_data"
    }
   ],
   "source": [
    "\n",
    "print_scalar((r**m*diff(b, r)).subs(r, R).expand())"
   ]
  },
  {
   "cell_type": "code",
   "execution_count": 123,
   "metadata": {},
   "outputs": [
    {
     "data": {
      "text/latex": [
       "$\\displaystyle - \\frac{R^{3} \\sin{\\left(\\theta \\right)}}{r^{5}} - \\frac{3 R \\sin{\\left(\\theta \\right)}}{2 r^{3}} + \\frac{\\sin{\\left(\\theta \\right)}}{r^{2}}$"
      ],
      "text/plain": [
       "-R**3*sin(\\theta)/r**5 - 3*R*sin(\\theta)/(2*r**3) + sin(\\theta)/r**2"
      ]
     },
     "execution_count": 123,
     "metadata": {},
     "output_type": "execute_result"
    }
   ],
   "source": [
    "sp.expand(diff(c, r))"
   ]
  },
  {
   "cell_type": "code",
   "execution_count": null,
   "metadata": {},
   "outputs": [],
   "source": []
  }
 ],
 "metadata": {
  "kernelspec": {
   "display_name": "Python 3.9.13 64-bit",
   "language": "python",
   "name": "python3"
  },
  "language_info": {
   "codemirror_mode": {
    "name": "ipython",
    "version": 3
   },
   "file_extension": ".py",
   "mimetype": "text/x-python",
   "name": "python",
   "nbconvert_exporter": "python",
   "pygments_lexer": "ipython3",
   "version": "3.9.13"
  },
  "orig_nbformat": 4,
  "vscode": {
   "interpreter": {
    "hash": "7151c2de660e94597f26099e76e1b16a5252bf64b42a36ebffc311cf199c80ec"
   }
  }
 },
 "nbformat": 4,
 "nbformat_minor": 2
}
