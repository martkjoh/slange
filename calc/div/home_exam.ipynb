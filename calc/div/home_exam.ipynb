{
 "cells": [
  {
   "cell_type": "markdown",
   "metadata": {},
   "source": [
    "# Home exam GR\n",
    "Kandidatnr: 10018"
   ]
  },
  {
   "cell_type": "code",
   "execution_count": null,
   "metadata": {},
   "outputs": [],
   "source": [
    "from sympy import MatrixSymbol, Matrix, Array, pprint\n",
    "from sympy import symbols, diff, cos, sin, simplify, Rational\n",
    "from sympy.core.symbol import Symbol\n",
    "from sympy import pi\n",
    "\n",
    "import numpy as np\n",
    "import sympy as sp\n",
    "from IPython.display import display, Latex"
   ]
  },
  {
   "cell_type": "markdown",
   "metadata": {},
   "source": [
    "### Utilities\n",
    "Misc. tensor operations"
   ]
  },
  {
   "cell_type": "code",
   "execution_count": null,
   "metadata": {},
   "outputs": [],
   "source": [
    "def get_g_inv(g):\n",
    "    return np.array(Matrix(g)**(-1))"
   ]
  },
  {
   "cell_type": "code",
   "execution_count": null,
   "metadata": {},
   "outputs": [],
   "source": [
    "def INDX(i, place, num_indx):\n",
    "    \"\"\"\n",
    "    Acceses an index at 'place' for 'num_indx' order tensor\n",
    "    T_(a0 ... âp ... an-1) = T[INDX(i, place=p, num_indx=n)] = T[:,...<-p-> , i, :,...<-(n-p-1)->]\n",
    "    \"\"\"\n",
    "    indx = []\n",
    "    assert place<num_indx\n",
    "    for j in range(num_indx):\n",
    "        if place==j: indx.append(i)\n",
    "        else: indx.append(slice(None))\n",
    "    return tuple(indx)\n",
    "\n",
    "def get_g_inv(g):\n",
    "    return np.array(Matrix(g)**(-1))"
   ]
  },
  {
   "cell_type": "code",
   "execution_count": null,
   "metadata": {},
   "outputs": [],
   "source": [
    "def contract(T, g=None, g_inv=None, num_indx=2, upper=1, indx=(0, 1)):\n",
    "    \"\"\"\n",
    "    contracts indecies indx=(a_p, a_q) on tensor T with 'num_indx', \n",
    "    'upper' of whom are upper. If upper=0, all indecies are assumed lower.\n",
    "    With indx=(a_k, a_l), upper=n, num_indx=n+m, this gives\n",
    "    T^(a_0...a_n-1)_(a_n...a_n+m-1) -> T^(a_0...a_k=a...a_n-1)_(a_n...a_k...a_n+m-1),\n",
    "    with the necesarry metric. If wrong metric is given, this wil throw error.\n",
    "    \"\"\"\n",
    "    assert indx[0] < indx[1]  # we have to know if the index to the left dissapears\n",
    "    dim = np.shape(T)[0]\n",
    "    a = (indx[0] < upper) + (indx[1] < upper) # number of upper indecies to be contracted\n",
    "    if a==2: g0 = g # two upper\n",
    "    elif a==0: g0 = g_inv # two lower\n",
    "    else: g0 = np.identity(dim, dtype=Rational)\n",
    "\n",
    "    Tc = Rational(0) * np.ones((T.shape)[:-2], dtype=Rational)\n",
    "    for i in range(dim):\n",
    "        for j in range(dim):\n",
    "            Tc += g0[i, j] * (T[INDX(i, indx[0], num_indx)])[INDX(j, indx[1] - 1, num_indx - 1)]\n",
    "\n",
    "    return Tc"
   ]
  },
  {
   "cell_type": "code",
   "execution_count": null,
   "metadata": {},
   "outputs": [],
   "source": [
    "def raise_indx(T, g_inv, indx, num_indx):\n",
    "    \"\"\"\n",
    "    Raise index 'indx' of a tensor T with 'num_indx' indices.\n",
    "    \"\"\"\n",
    "    dim = np.shape(T)[0]\n",
    "    Tu = np.zeros_like(T)\n",
    "    for i in range(dim):\n",
    "        I = INDX(i, indx, num_indx)\n",
    "        for j in range(dim):\n",
    "            J = INDX(j, indx, num_indx)\n",
    "            Tu[I] += g_inv[i, j] * T[J]\n",
    "    return Tu\n",
    "\n",
    "def lower_indx(T, g, indx, num_indx):\n",
    "    return raise_indx(T, g, indx, num_indx)"
   ]
  },
  {
   "cell_type": "code",
   "execution_count": null,
   "metadata": {},
   "outputs": [],
   "source": [
    "def print_christoffel(C, var):\n",
    "    \"\"\" A function for dsiplaying christoffels symbols \"\"\"\n",
    "    output = []\n",
    "    for i in range(len(var)):\n",
    "        txt = \"$$\"\n",
    "        txt += \"\\Gamma^\" + sp.latex(var[i]) + \"_{\\\\alpha \\\\beta} =\"\n",
    "        txt += sp.latex(Matrix(C[i]))\n",
    "        txt += \"$$\"\n",
    "        output.append(display(Latex(txt)))\n",
    "    return output\n",
    "\n",
    "def print_tensor(T, name=\"T\"):\n",
    "    return display(Latex(\"$$\" + name + \"=\" + sp.latex(Matrix(T)) +\"$$\"))\n",
    "\n",
    "def print_scalar(S, name=\"S\"):\n",
    "    return display(Latex(\"$$\" + name + \"=\" + sp.latex(S) +\"$$\"))"
   ]
  },
  {
   "cell_type": "markdown",
   "metadata": {},
   "source": [
    "## Geometry"
   ]
  },
  {
   "cell_type": "code",
   "execution_count": null,
   "metadata": {},
   "outputs": [],
   "source": [
    "def Christoffel(g, g_inv, var):\n",
    "    \"\"\" \n",
    "    Work out the christoffel symbols, given a metric an its variables \n",
    "    Γ^i_jk = C[i, j, k]\n",
    "    \"\"\"\n",
    "    dim = len(var)\n",
    "    C = np.zeros((dim, dim, dim), dtype=Symbol)\n",
    "    for i in range(dim):\n",
    "        for j in range(dim):\n",
    "            for k in range(dim):\n",
    "                for m in range(dim):\n",
    "                    C[i, j, k] += Rational(1, 2) * (g_inv)[i, m] * (\n",
    "                        diff(g[m, k], var[j])\n",
    "                        + diff(g[m, j], var[k])\n",
    "                        - diff(g[k, j], var[m])\n",
    "                        )\n",
    "    return C"
   ]
  },
  {
   "cell_type": "markdown",
   "metadata": {},
   "source": [
    "$\n",
    "R^\\alpha_{\\beta \\rho \\sigma} = \\partial_\\rho \\Gamma^\\alpha_{\\beta \\sigma} -\\partial_\\sigma \\Gamma^\\alpha_{\\beta \\rho} +\\Gamma^\\alpha_{\\kappa \\rho}\\Gamma^\\kappa_{\\beta \\sigma} - \\Gamma^\\alpha_{\\kappa \\sigma}\\Gamma^\\kappa_{\\beta \\rho}\n",
    "$\n",
    "\n",
    "    R[a, b, r, s] = diff(C[a, b, s], r) - diff(C[a, b, r], s) + C[a, k, r]*C[k, b, s] * C[a, k, s]*C[k, b, r]"
   ]
  },
  {
   "cell_type": "code",
   "execution_count": null,
   "metadata": {},
   "outputs": [],
   "source": [
    "def Riemann_tensor(C, var):\n",
    "    \"\"\" \n",
    "    Riemann_tensor(Christoffel_symbols, (x_1, ...)) = R[i, j, k, l] = R^i_jkl\n",
    "    Compute the Riemann tensor from the Christoffel symbols \n",
    "    \"\"\"\n",
    "    dim = len(var)\n",
    "    R = np.zeros([dim] * 4, dtype=Symbol)\n",
    "    indx = [(i, j, k, l)\n",
    "        for i in range(dim)\n",
    "        for j in range(dim)\n",
    "        for k in range(dim)\n",
    "        for l in range(dim)\n",
    "    ]\n",
    "    for (a, b, r, s) in indx:\n",
    "        R[a, b, r, s] += diff(C[a, b, s], var[r]) - diff(C[a, b, r], var[s])\n",
    "        for k in range(dim):\n",
    "            R[a, b, r, s] += C[a, k, r] * C[k, b, s] - C[a, k, s] * C[k, b, r]\n",
    "    return R"
   ]
  },
  {
   "cell_type": "markdown",
   "metadata": {},
   "source": [
    "# Exercise b)"
   ]
  },
  {
   "cell_type": "code",
   "execution_count": null,
   "metadata": {},
   "outputs": [],
   "source": [
    "t, r, th, ph = symbols(\"t, r, \\\\theta, \\phi\")\n",
    "x1 = r * cos(ph) * sin(th)\n",
    "x2 = r * sin(ph) * sin(th)\n",
    "x3 = r * cos(th)\n",
    "\n",
    "one = Rational(1)\n",
    "eta = sp.diag(one, -one, -one, -one)\n",
    "var = (t, r, th, ph)\n",
    "J = Matrix([t, x1, x2, x3]).jacobian(var)\n",
    "g = np.array(simplify(J.T *eta* J))\n",
    "\n",
    "A = sp.Function(\"A\", real=True)(r)\n",
    "B = sp.Function(\"B\", real=True)(r)\n",
    "g[0, 0] *= A\n",
    "g[1, 1] *= B\n",
    "g_inv = get_g_inv(g)\n",
    "\n",
    "Latex(\"$$\" + sp.latex(Matrix(g))  + sp.latex(Matrix(g_inv)) +\"$$\")"
   ]
  },
  {
   "cell_type": "code",
   "execution_count": null,
   "metadata": {},
   "outputs": [],
   "source": [
    "C = Christoffel(g, g_inv, var)\n",
    "c = print_christoffel(C, var)"
   ]
  },
  {
   "cell_type": "code",
   "execution_count": null,
   "metadata": {},
   "outputs": [],
   "source": [
    "Rie = Riemann_tensor(C, var)\n",
    "print_tensor(Rie[0, 1])"
   ]
  },
  {
   "cell_type": "code",
   "execution_count": null,
   "metadata": {},
   "outputs": [],
   "source": [
    "Ricci = -contract(Rie, num_indx=4, upper=1, indx=(0, 2))"
   ]
  },
  {
   "cell_type": "code",
   "execution_count": null,
   "metadata": {},
   "outputs": [],
   "source": [
    "for i in range(len(Ricci)):\n",
    "    display(Latex(\"$$ R_{ \"+ str(i)+str(i) +\"}=\" + sp.latex(Ricci[i,i]) + \"$$\"))"
   ]
  },
  {
   "cell_type": "markdown",
   "metadata": {},
   "source": [
    "# Exercise c)"
   ]
  },
  {
   "cell_type": "code",
   "execution_count": null,
   "metadata": {},
   "outputs": [],
   "source": [
    "E1, E2, E3, B1, B2, B3 = symbols(\"E_1, E_2, E_3, B_1, B_2, B_3\")\n",
    "\n",
    "F = np.array([\n",
    "    [0,     E1,    E2,    E3],\n",
    "    [-E1,    0,      B3,    -B2],\n",
    "    [-E2,    -B3,     0,      B1],\n",
    "    [-E3,    B2,    -B1,     0 ]\n",
    "])\n",
    "\n",
    "print_tensor(F, \"F_{\\mu \\\\nu}\")"
   ]
  },
  {
   "cell_type": "code",
   "execution_count": null,
   "metadata": {},
   "outputs": [],
   "source": [
    "Fud = raise_indx(F, g_inv, 0, 2)\n",
    "Fdu = raise_indx(F, g_inv, 1, 2)\n",
    "Fuu = raise_indx(Fud, g_inv, 1, 2)\n",
    "\n",
    "print_tensor(Fud, \"F^\\mu_{\\,\\,\\,\\,\\\\nu}\")\n",
    "print_tensor(Fdu, \"F^{\\,\\,\\\\nu}_\\\\mu\")\n",
    "print_tensor(Fuu, \"F^{\\mu \\\\nu}\")"
   ]
  },
  {
   "cell_type": "markdown",
   "metadata": {},
   "source": [
    "# Exercise d)"
   ]
  },
  {
   "cell_type": "code",
   "execution_count": null,
   "metadata": {},
   "outputs": [],
   "source": [
    "Er = symbols(\"E_r\")\n",
    "\n",
    "F0 = np.array([\n",
    "    [0, Er, 0, 0], \n",
    "    [-Er, 0, 0, 0],\n",
    "    [0, 0, 0, 0],\n",
    "    [0, 0, 0, 0]\n",
    "])\n",
    "\n",
    "F0ud = raise_indx(F0, g_inv, 0, 2)\n",
    "F0du = raise_indx(F0, g_inv, 1, 2)\n",
    "F0uu = raise_indx(F0ud, g_inv, 1, 2)\n",
    "\n",
    "print_tensor(F0ud, \"F^\\mu_{\\,\\,\\,\\,\\\\nu}\")\n",
    "print_tensor(F0du, \"F^{\\,\\,\\\\nu}_\\\\mu\")\n",
    "print_tensor(F0uu, \"F^{\\mu \\\\nu}\")\n",
    "\n",
    "Tu = -F0uu @ F0ud.T + Rational(1, 4) * g_inv * contract(F0.T@ F0uu)\n",
    "T = lower_indx(lower_indx(Tu, g, 0, 2), g, 1, 2)\n",
    "\n",
    "print_tensor(Tu, \"T^{\\mu \\\\nu}\")\n",
    "print_tensor(T, \"T_{\\mu \\\\nu}\")\n",
    "print_scalar(contract(T, g_inv=g_inv, upper=0), \"T_\\mu^\\mu\")"
   ]
  },
  {
   "cell_type": "code",
   "execution_count": null,
   "metadata": {},
   "outputs": [],
   "source": [
    "Q = symbols(\"Q\")\n",
    "k = symbols(\"k\")\n",
    "# k =  kappa *( Q / ( Rational(4) pi))**2\n",
    "E = sp.sqrt(A*B) / r**2\n",
    "T0 = Matrix(T).subs(Er, E)\n",
    "eq = []\n",
    "for i in range(len(Ricci)):\n",
    "    eq.append(Ricci[i, i] + k*T0[i, i])\n",
    "    display(Latex(\"$$\" + sp.latex(eq[i]) + \"= 0 $$\"))"
   ]
  },
  {
   "cell_type": "code",
   "execution_count": null,
   "metadata": {},
   "outputs": [],
   "source": [
    "simplify(-B*r*(B * eq[0] + A * eq[1]))"
   ]
  },
  {
   "cell_type": "markdown",
   "metadata": {},
   "source": [
    "# Exercise f)"
   ]
  },
  {
   "cell_type": "code",
   "execution_count": null,
   "metadata": {},
   "outputs": [],
   "source": [
    "eq0 = [a.subs(B, 1/A) for a in eq]\n",
    "\n",
    "for i in range(len(Ricci)):\n",
    "    display(Latex(\"$$\" + sp.latex(simplify(eq0[i])) + \"= 0 $$\"))"
   ]
  },
  {
   "cell_type": "code",
   "execution_count": null,
   "metadata": {},
   "outputs": [],
   "source": [
    "sp.dsolve(eq0[2])"
   ]
  },
  {
   "cell_type": "markdown",
   "metadata": {},
   "source": [
    "# Excercise g)"
   ]
  },
  {
   "cell_type": "code",
   "execution_count": null,
   "metadata": {},
   "outputs": [],
   "source": [
    "M = symbols(\"M\")\n",
    "\n",
    "g0 = Matrix(g).subs(B, 1/A)\n",
    "g0 = Matrix(g0).subs(A, 1 - 2*M/r + k/(2*r**2))\n",
    "g0_inv = g0**(-1)\n",
    "\n",
    "print_tensor(g0, \"g\")\n",
    "print_tensor(g0**(-1), \"g^{-1}\")\n",
    "C0 = Christoffel(g0, g0_inv, var)\n",
    "print_christoffel(C0, var)\n",
    "Rie0 = Riemann_tensor(C0, var)\n",
    "Ricci0 = -contract(Rie0, upper=1, num_indx=4, indx=(0, 2))\n",
    "print_tensor(simplify(Ricci0), \"R_t\")\n",
    "R0 = contract(Ricci0, upper=0, g_inv=g0_inv)\n",
    "R0 = simplify(R0)\n",
    "print_scalar(R0, \"R_s\")"
   ]
  },
  {
   "cell_type": "code",
   "execution_count": null,
   "metadata": {},
   "outputs": [],
   "source": [
    "Ru = raise_indx(raise_indx(raise_indx(Rie0, g0_inv, 1, 4), g0_inv, 2, 3), g0_inv, 3, 4)\n",
    "Rl = lower_indx(Rie0, g0, 0, 4)\n",
    "\n",
    "\n",
    "simplify(sum(sum(sum(sum(Ru * Rl)))))"
   ]
  }
 ],
 "metadata": {
  "kernelspec": {
   "display_name": "Python 3.9.13 64-bit",
   "language": "python",
   "name": "python3"
  },
  "language_info": {
   "codemirror_mode": {
    "name": "ipython",
    "version": 3
   },
   "file_extension": ".py",
   "mimetype": "text/x-python",
   "name": "python",
   "nbconvert_exporter": "python",
   "pygments_lexer": "ipython3",
   "version": "3.9.13"
  },
  "vscode": {
   "interpreter": {
    "hash": "7151c2de660e94597f26099e76e1b16a5252bf64b42a36ebffc311cf199c80ec"
   }
  }
 },
 "nbformat": 4,
 "nbformat_minor": 4
}
