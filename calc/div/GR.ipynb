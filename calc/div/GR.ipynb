{
 "cells": [
  {
   "cell_type": "code",
   "execution_count": null,
   "metadata": {},
   "outputs": [],
   "source": [
    "from calcs.tensors import *"
   ]
  },
  {
   "cell_type": "code",
   "execution_count": null,
   "metadata": {},
   "outputs": [],
   "source": [
    "hyperbolic_plane()"
   ]
  },
  {
   "cell_type": "code",
   "execution_count": null,
   "metadata": {},
   "outputs": [],
   "source": [
    "# FRW - metric\n",
    "\n",
    "t, r, th, ph = symbols(\"t, r, θ, φ\")\n",
    "x1 = r * cos(ph) * sin(th)\n",
    "x2 = r * sin(ph) * sin(th)\n",
    "x3 = r * cos(th)\n",
    "\n",
    "eta = -1 * sp.diag(1, -1, -1, -1)\n",
    "var = (t, r, th, ph)\n",
    "J = Matrix([t, x1, x2, x3]).jacobian(var)\n",
    "g = np.array(simplify(J.T *eta* J))\n",
    "\n",
    "k = sp.symbols(\"k\")\n",
    "a = sp.Function(\"a\")(t)\n",
    "g[1, 1] *= a**2 / (1 - k*r**2)\n",
    "g[2, 2] *= a**2\n",
    "g[3, 3] *= a**2\n",
    "\n",
    "\n",
    "g_inv = get_g_inv(g)\n",
    "print_tensor(g, \"g\")\n",
    "print_tensor(g_inv, \"g^{-1}\")\n",
    "C = Christoffel(g, g_inv, var)\n",
    "Christoffel_print(C, var)\n",
    "\n",
    "Rie = Riemann_tensor(C, var)\n",
    "Ricci = Ricci_tensor(Rie)\n",
    "R = Ricci_scalar(Ricci, g_inv)\n",
    "print_scalar(sp.simplify(R), \"R\")\n"
   ]
  },
  {
   "cell_type": "code",
   "execution_count": null,
   "metadata": {},
   "outputs": [],
   "source": [
    "rho = sp.Function(\"\\\\rho\")(t)\n",
    "P = sp.Function(\"P\")(t)\n",
    "T = lower_indx(np.diag([rho, P, P, P]), g, 1, 2)\n",
    "print_tensor(T)"
   ]
  },
  {
   "cell_type": "code",
   "execution_count": null,
   "metadata": {},
   "outputs": [],
   "source": [
    "L, K = sp.symbols(\"\\Lambda, \\kappa\")\n",
    "fried_eq = (Ricci - R * g / 2 + L * g - K * T) @ g_inv\n",
    "print_scalar(sp.simplify(fried_eq[0, 0]), \"eq_1\")\n",
    "eq2 = sum([fried_eq[i, i] for i in range(4)])\n",
    "print_scalar(simplify(eq2), \"eq_2\")"
   ]
  },
  {
   "cell_type": "code",
   "execution_count": null,
   "metadata": {},
   "outputs": [],
   "source": [
    "t, x, g= sp.symbols(\"t, x, g\")\n",
    "g = np.array([\n",
    "    [-(1 + g * x)**2, 0],\n",
    "    [0, 1]\n",
    "])\n",
    "\n",
    "var = (t, x)\n",
    "g_inv = get_g_inv(g)\n",
    "C = Christoffel(g, g_inv, var)\n",
    "Christoffel_print(C, var)\n",
    "Rie = Riemann_tensor(C, var)\n",
    "Ricci = Ricci_tensor(Rie)\n",
    "print_tensor(Ricci)"
   ]
  }
 ],
 "metadata": {
  "kernelspec": {
   "display_name": "Python 3.10.6 64-bit",
   "language": "python",
   "name": "python3"
  },
  "language_info": {
   "codemirror_mode": {
    "name": "ipython",
    "version": 3
   },
   "file_extension": ".py",
   "mimetype": "text/x-python",
   "name": "python",
   "nbconvert_exporter": "python",
   "pygments_lexer": "ipython3",
   "version": "3.10.6"
  },
  "vscode": {
   "interpreter": {
    "hash": "31f2aee4e71d21fbe5cf8b01ff0e069b9275f58929596ceb00d14d90e3e16cd6"
   }
  }
 },
 "nbformat": 4,
 "nbformat_minor": 2
}
