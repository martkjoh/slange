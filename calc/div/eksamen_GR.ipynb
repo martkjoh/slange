{
 "cells": [
  {
   "cell_type": "code",
   "execution_count": null,
   "metadata": {},
   "outputs": [],
   "source": [
    "var(\"x\")\n",
    "var(\"a\", latex_name=\"\\\\alpha\")\n",
    "assume(a > 0)\n",
    "pprint(integral(exp(-a * x**2), x))"
   ]
  }
 ],
 "metadata": {
  "kernelspec": {
   "display_name": "Python 3.9.13 64-bit",
   "language": "python",
   "name": "python3"
  },
  "language_info": {
   "codemirror_mode": {
    "name": "ipython",
    "version": 3
   },
   "file_extension": ".py",
   "mimetype": "text/x-python",
   "name": "python",
   "nbconvert_exporter": "python",
   "pygments_lexer": "ipython3",
   "version": "3.9.13"
  },
  "vscode": {
   "interpreter": {
    "hash": "7151c2de660e94597f26099e76e1b16a5252bf64b42a36ebffc311cf199c80ec"
   }
  }
 },
 "nbformat": 4,
 "nbformat_minor": 4
}
