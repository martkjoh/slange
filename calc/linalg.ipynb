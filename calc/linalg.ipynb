{
 "cells": [
  {
   "cell_type": "code",
   "execution_count": 1,
   "id": "featured-partition",
   "metadata": {},
   "outputs": [],
   "source": [
    "from IPython.display import display, Latex\n",
    "\n",
    "def pprint(expr):\n",
    "    return display(Latex(\"$$\" + latex(expr) +\"$$\"))"
   ]
  },
  {
   "cell_type": "code",
   "execution_count": 2,
   "id": "later-london",
   "metadata": {},
   "outputs": [
    {
     "ename": "NameError",
     "evalue": "name 'var' is not defined",
     "output_type": "error",
     "traceback": [
      "\u001b[0;31m---------------------------------------------------------------------------\u001b[0m",
      "\u001b[0;31mNameError\u001b[0m                                 Traceback (most recent call last)",
      "\u001b[0;32m/tmp/ipykernel_98997/2858173460.py\u001b[0m in \u001b[0;36m<module>\u001b[0;34m\u001b[0m\n\u001b[0;32m----> 1\u001b[0;31m \u001b[0mvar\u001b[0m\u001b[0;34m(\u001b[0m\u001b[0;34m\"a, b, c\"\u001b[0m\u001b[0;34m)\u001b[0m\u001b[0;34m\u001b[0m\u001b[0;34m\u001b[0m\u001b[0m\n\u001b[0m\u001b[1;32m      2\u001b[0m \u001b[0;34m\u001b[0m\u001b[0m\n\u001b[1;32m      3\u001b[0m V = Matrix([\n\u001b[1;32m      4\u001b[0m     \u001b[0;34m[\u001b[0m\u001b[0ma\u001b[0m\u001b[0;34m,\u001b[0m \u001b[0mb\u001b[0m\u001b[0;34m]\u001b[0m\u001b[0;34m,\u001b[0m\u001b[0;34m\u001b[0m\u001b[0;34m\u001b[0m\u001b[0m\n\u001b[1;32m      5\u001b[0m     \u001b[0;34m[\u001b[0m\u001b[0mb\u001b[0m\u001b[0;34m,\u001b[0m \u001b[0mc\u001b[0m\u001b[0;34m]\u001b[0m\u001b[0;34m\u001b[0m\u001b[0;34m\u001b[0m\u001b[0m\n",
      "\u001b[0;31mNameError\u001b[0m: name 'var' is not defined"
     ]
    }
   ],
   "source": [
    "var(\"a, b, c\")\n",
    "\n",
    "V = Matrix([\n",
    "    [a, b],\n",
    "    [b, c]\n",
    "])\n",
    "pprint(V)"
   ]
  },
  {
   "cell_type": "code",
   "execution_count": 31,
   "id": "representative-interval",
   "metadata": {},
   "outputs": [
    {
     "data": {
      "text/latex": [
       "$$ \\left[\\left(\\frac{1}{2} \\, a + \\frac{1}{2} \\, c - \\frac{1}{2} \\, \\sqrt{a^{2} + 4 \\, b^{2} - 2 \\, a c + c^{2}}, \\left[\\left(1,\\,-\\frac{a - c + \\sqrt{a^{2} + 4 \\, b^{2} - 2 \\, a c + c^{2}}}{2 \\, b}\\right)\\right], 1\\right), \\left(\\frac{1}{2} \\, a + \\frac{1}{2} \\, c + \\frac{1}{2} \\, \\sqrt{a^{2} + 4 \\, b^{2} - 2 \\, a c + c^{2}}, \\left[\\left(1,\\,-\\frac{a - c - \\sqrt{a^{2} + 4 \\, b^{2} - 2 \\, a c + c^{2}}}{2 \\, b}\\right)\\right], 1\\right)\\right] $$"
      ],
      "text/plain": [
       "<IPython.core.display.Latex object>"
      ]
     },
     "metadata": {},
     "output_type": "display_data"
    }
   ],
   "source": [
    "eigh = V.eigenvectors_right()\n",
    "eight[0] = simplify(eigh[0])\n",
    "pprint(eigh)"
   ]
  }
 ],
 "metadata": {
  "kernelspec": {
   "display_name": "Python 3",
   "language": "python",
   "name": "python3"
  },
  "language_info": {
   "codemirror_mode": {
    "name": "ipython",
    "version": 3
   },
   "file_extension": ".py",
   "mimetype": "text/x-python",
   "name": "python",
   "nbconvert_exporter": "python",
   "pygments_lexer": "ipython3",
   "version": "3.10.6"
  },
  "vscode": {
   "interpreter": {
    "hash": "31f2aee4e71d21fbe5cf8b01ff0e069b9275f58929596ceb00d14d90e3e16cd6"
   }
  }
 },
 "nbformat": 4,
 "nbformat_minor": 5
}
