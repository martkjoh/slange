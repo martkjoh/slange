{
 "cells": [
  {
   "cell_type": "code",
   "execution_count": null,
   "metadata": {},
   "outputs": [],
   "source": [
    "import numpy as np\n",
    "from numpy.linalg import eigvals\n",
    "import matplotlib.pyplot as plt\n",
    "\n",
    "from matplotlib import cm\n",
    "from matplotlib.colors import LogNorm\n",
    "from matplotlib.animation import FuncAnimation as FA\n",
    "\n",
    "plt.rc(\"font\", family=\"serif\", size=16)\n",
    "plt.rc(\"mathtext\", fontset=\"cm\")\n",
    "plt.rc(\"lines\", lw=2)"
   ]
  },
  {
   "cell_type": "code",
   "execution_count": null,
   "metadata": {},
   "outputs": [],
   "source": [
    "D11 = lambda phi, a :1 - 3*phi[0]**2 - phi[1]**2 + 0j\n",
    "D22 = lambda phi, a :1 - phi[0]**2 - 3*phi[1]**2 + 0j\n",
    "D12 = lambda phi, a: - a - 2 *phi[0]*phi[1]+0j\n",
    "D21 = lambda phi, a: + a - 2 *phi[0]*phi[1]+0j\n",
    "\n",
    "def D0(phi, a, x, c):\n",
    "    D = np.matrix([\n",
    "        [D11(phi, a, x, c), D12(phi, a, x, c)], \n",
    "        [D21(phi, a, x, c), D22(phi, a, x, c)]])\n",
    "    return D"
   ]
  },
  {
   "cell_type": "code",
   "execution_count": null,
   "metadata": {},
   "outputs": [],
   "source": [
    "l1 = lambda phi, a : ( (D11(phi, a) + D22(phi, a)) + np.sqrt((D11(phi, a) - D22(phi, a))**2 + 4*D12(phi, a)*D21 (phi, a) ) ) /2\n",
    "l2 = lambda phi, a : ( (D11(phi, a) + D22(phi, a)) + np.sqrt((D11(phi, a) - D22(phi, a))**2 + 4*D12(phi, a)*D21 (phi, a) ) ) /2"
   ]
  },
  {
   "cell_type": "code",
   "execution_count": null,
   "metadata": {},
   "outputs": [],
   "source": [
    "n = 1000\n",
    "k = 1.\n",
    "phi1 = np.linspace(-k, k, n)\n",
    "phi2 = np.linspace(-k, k, n)\n",
    "p = np.array(np.meshgrid(phi1, phi2))\n",
    "\n",
    "aa = np.linspace(0, .01, 10)\n",
    "\n",
    "for a in aa:\n",
    "    fig, ax = plt.subplots(1, 2, figsize=(20, 10))\n",
    "    print(a)\n",
    "    ax[0].pcolormesh(p[0], p[1], l1(p, a).real)\n",
    "    ax[1].pcolormesh(p[0], p[1], l1(p, a).imag)\n",
    "    plt.show()"
   ]
  },
  {
   "cell_type": "code",
   "execution_count": null,
   "metadata": {},
   "outputs": [],
   "source": [
    "\n",
    "for a in aa:\n",
    "    fig, ax = plt.subplots( figsize=(10, 10))\n",
    "\n",
    "    ax.pcolormesh(p[0], p[1], l1(p, a).real>0)\n"
   ]
  },
  {
   "cell_type": "code",
   "execution_count": null,
   "metadata": {},
   "outputs": [],
   "source": []
  }
 ],
 "metadata": {
  "kernelspec": {
   "display_name": "Python 3.9.12 64-bit ('anaconda3')",
   "language": "python",
   "name": "python3"
  },
  "language_info": {
   "codemirror_mode": {
    "name": "ipython",
    "version": 3
   },
   "file_extension": ".py",
   "mimetype": "text/x-python",
   "name": "python",
   "nbconvert_exporter": "python",
   "pygments_lexer": "ipython3",
   "version": "3.9.12"
  },
  "orig_nbformat": 4,
  "vscode": {
   "interpreter": {
    "hash": "7151c2de660e94597f26099e76e1b16a5252bf64b42a36ebffc311cf199c80ec"
   }
  }
 },
 "nbformat": 4,
 "nbformat_minor": 2
}
