{
 "cells": [
  {
   "cell_type": "code",
   "execution_count": 43,
   "id": "broken-share",
   "metadata": {},
   "outputs": [
    {
     "data": {
      "text/latex": [
       "$\\displaystyle a_{a1} a_{a0} a^\\dagger_{a3} a^\\dagger_{a2}$"
      ],
      "text/plain": [
       "AnnihilateFermion(a1)*AnnihilateFermion(a0)*CreateFermion(a3)*CreateFermion(a2)"
      ]
     },
     "execution_count": 43,
     "metadata": {},
     "output_type": "execute_result"
    }
   ],
   "source": [
    "from sympy.physics.secondquant import Commutator, F, Fd, wicks, NO\n",
    "from sympy import symbols, simplify\n",
    "\n",
    "a = symbols(\"a0:4\")\n",
    "b = symbols(\"b0:4\")\n",
    "exp = F(a[1])*F(a[0])*Fd(a[3])*Fd(a[2])\n",
    "exp"
   ]
  },
  {
   "cell_type": "code",
   "execution_count": 44,
   "id": "dress-success",
   "metadata": {},
   "outputs": [
    {
     "data": {
      "text/latex": [
       "$\\displaystyle a_{b0} a_{b1} a^\\dagger_{b2} a^\\dagger_{b3}$"
      ],
      "text/plain": [
       "AnnihilateFermion(b0)*AnnihilateFermion(b1)*CreateFermion(b2)*CreateFermion(b3)"
      ]
     },
     "execution_count": 44,
     "metadata": {},
     "output_type": "execute_result"
    }
   ],
   "source": [
    "exp2 = F(b[0])*F(b[1])*Fd(b[2])*Fd(b[3])\n",
    "exp2"
   ]
  },
  {
   "cell_type": "code",
   "execution_count": 45,
   "id": "suspended-mitchell",
   "metadata": {},
   "outputs": [
    {
     "data": {
      "text/latex": [
       "$\\displaystyle a_{a1} a_{a0} a^\\dagger_{a3} a^\\dagger_{a2} a_{b0} a_{b1} a^\\dagger_{b2} a^\\dagger_{b3}$"
      ],
      "text/plain": [
       "AnnihilateFermion(a1)*AnnihilateFermion(a0)*CreateFermion(a3)*CreateFermion(a2)*AnnihilateFermion(b0)*AnnihilateFermion(b1)*CreateFermion(b2)*CreateFermion(b3)"
      ]
     },
     "execution_count": 45,
     "metadata": {},
     "output_type": "execute_result"
    }
   ],
   "source": [
    "exp * exp2"
   ]
  },
  {
   "cell_type": "code",
   "execution_count": 46,
   "id": "dirty-sherman",
   "metadata": {},
   "outputs": [
    {
     "data": {
      "text/latex": [
       "$\\displaystyle \\left(- \\delta_{a a_{3}} \\delta_{a a_{2}} \\delta_{a_{0} a_{2}} \\delta_{a_{1} a_{3}} + \\delta_{a a_{3}} \\delta_{a_{1} a_{3}} \\left\\{a^\\dagger_{a2} a_{a0}\\right\\} + \\delta_{a a_{2}} \\delta_{a a_{3}} \\delta_{a_{0} a_{3}} \\delta_{a_{1} a_{2}} - \\delta_{a a_{2}} \\delta_{a_{1} a_{2}} \\left\\{a^\\dagger_{a3} a_{a0}\\right\\} - \\delta_{a a_{3}} \\delta_{a_{0} a_{3}} \\left\\{a^\\dagger_{a2} a_{a1}\\right\\} + \\delta_{a a_{2}} \\delta_{a_{0} a_{2}} \\left\\{a^\\dagger_{a3} a_{a1}\\right\\} + \\left\\{a^\\dagger_{a2} a^\\dagger_{a3} a_{a0} a_{a1}\\right\\}\\right) \\left(- \\delta_{a b_{2}} \\delta_{a b_{3}} \\delta_{b_{0} b_{2}} \\delta_{b_{1} b_{3}} + \\delta_{a b_{2}} \\delta_{b_{0} b_{2}} \\left\\{a^\\dagger_{b3} a_{b1}\\right\\} + \\delta_{a b_{3}} \\delta_{a b_{2}} \\delta_{b_{0} b_{3}} \\delta_{b_{1} b_{2}} - \\delta_{a b_{3}} \\delta_{b_{0} b_{3}} \\left\\{a^\\dagger_{b2} a_{b1}\\right\\} - \\delta_{a b_{2}} \\delta_{b_{1} b_{2}} \\left\\{a^\\dagger_{b3} a_{b0}\\right\\} + \\delta_{a b_{3}} \\delta_{b_{1} b_{3}} \\left\\{a^\\dagger_{b2} a_{b0}\\right\\} + \\left\\{a^\\dagger_{b2} a^\\dagger_{b3} a_{b0} a_{b1}\\right\\}\\right)$"
      ],
      "text/plain": [
       "(-KroneckerDelta(_a, a3)*KroneckerDelta(_a, a2)*KroneckerDelta(a0, a2)*KroneckerDelta(a1, a3) + KroneckerDelta(_a, a3)*KroneckerDelta(a1, a3)*NO(CreateFermion(a2)*AnnihilateFermion(a0)) + KroneckerDelta(_a, a2)*KroneckerDelta(_a, a3)*KroneckerDelta(a0, a3)*KroneckerDelta(a1, a2) - KroneckerDelta(_a, a2)*KroneckerDelta(a1, a2)*NO(CreateFermion(a3)*AnnihilateFermion(a0)) - KroneckerDelta(_a, a3)*KroneckerDelta(a0, a3)*NO(CreateFermion(a2)*AnnihilateFermion(a1)) + KroneckerDelta(_a, a2)*KroneckerDelta(a0, a2)*NO(CreateFermion(a3)*AnnihilateFermion(a1)) + NO(CreateFermion(a2)*CreateFermion(a3)*AnnihilateFermion(a0)*AnnihilateFermion(a1)))*(-KroneckerDelta(_a, b2)*KroneckerDelta(_a, b3)*KroneckerDelta(b0, b2)*KroneckerDelta(b1, b3) + KroneckerDelta(_a, b2)*KroneckerDelta(b0, b2)*NO(CreateFermion(b3)*AnnihilateFermion(b1)) + KroneckerDelta(_a, b3)*KroneckerDelta(_a, b2)*KroneckerDelta(b0, b3)*KroneckerDelta(b1, b2) - KroneckerDelta(_a, b3)*KroneckerDelta(b0, b3)*NO(CreateFermion(b2)*AnnihilateFermion(b1)) - KroneckerDelta(_a, b2)*KroneckerDelta(b1, b2)*NO(CreateFermion(b3)*AnnihilateFermion(b0)) + KroneckerDelta(_a, b3)*KroneckerDelta(b1, b3)*NO(CreateFermion(b2)*AnnihilateFermion(b0)) + NO(CreateFermion(b2)*CreateFermion(b3)*AnnihilateFermion(b0)*AnnihilateFermion(b1)))"
      ]
     },
     "execution_count": 46,
     "metadata": {},
     "output_type": "execute_result"
    }
   ],
   "source": [
    "wicks(exp) * wicks(exp2)"
   ]
  }
 ],
 "metadata": {
  "kernelspec": {
   "display_name": "Python 3.8.5 64-bit",
   "language": "python",
   "name": "python38564bit3931715d8eef4b53802a78250b9b28cf"
  },
  "language_info": {
   "codemirror_mode": {
    "name": "ipython",
    "version": 3
   },
   "file_extension": ".py",
   "mimetype": "text/x-python",
   "name": "python",
   "nbconvert_exporter": "python",
   "pygments_lexer": "ipython3",
   "version": "3.8.5"
  }
 },
 "nbformat": 4,
 "nbformat_minor": 5
}
