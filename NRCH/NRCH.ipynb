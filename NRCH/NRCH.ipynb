{
 "cells": [
  {
   "cell_type": "code",
   "execution_count": null,
   "metadata": {},
   "outputs": [],
   "source": [
    "import numpy as np\n",
    "from numpy.linalg import eigvals\n",
    "import matplotlib.pyplot as plt\n",
    "\n",
    "from matplotlib import cm\n",
    "from matplotlib.colors import LogNorm\n",
    "from matplotlib.animation import FuncAnimation as FA\n",
    "\n",
    "plt.rc(\"font\", family=\"serif\", size=16)\n",
    "plt.rc(\"mathtext\", fontset=\"cm\")\n",
    "plt.rc(\"lines\", lw=2)"
   ]
  },
  {
   "cell_type": "code",
   "execution_count": null,
   "metadata": {},
   "outputs": [],
   "source": [
    "D11 = lambda phi, a, x, c:\\\n",
    "    -(\n",
    "        + 2*(phi[0] - c[0, 0])**2 \n",
    "        + 2*(phi[0] - c[0, 1])**2 \n",
    "        + 8*(phi[0] - c[0, 0])*(phi[0] - c[0, 1]) \n",
    "        + 2*x[1]*phi[1]**2\n",
    "    )+0j\n",
    "D22 = lambda phi, a, x, c: \\\n",
    "    -(\n",
    "        + 2*(phi[1] - c[1, 0])**2 \n",
    "        + 2*(phi[1] - c[1, 1])**2 \n",
    "        + 8*(phi[1] - c[1, 0])*(phi[1] - c[1, 1])\n",
    "        + 2*x[1]*phi[0]**2\n",
    "    )+0j\n",
    "D12 = lambda phi, a, x, c: -((x[0] + a) + 4*x[1]*phi[0]*phi[1])+0j\n",
    "D21 = lambda phi, a, x, c: -((x[0] - a) + 4*x[1]*phi[0]*phi[1])+0j\n",
    "\n",
    "\n",
    "def D0(phi, a, x, c):\n",
    "    D = np.matrix([\n",
    "        [D11(phi, a, x, c), D12(phi, a, x, c)], \n",
    "        [D21(phi, a, x, c), D22(phi, a, x, c)]])\n",
    "    return D"
   ]
  },
  {
   "cell_type": "code",
   "execution_count": null,
   "metadata": {},
   "outputs": [],
   "source": [
    "c = np.matrix([[.2, .5], [.1, .5]])\n",
    "x = np.array([-.2, .2])\n",
    "\n",
    "\n",
    "n = 200\n",
    "k = 1.\n",
    "phi1 = np.linspace(-k, k, n)\n",
    "phi2 = np.linspace(-k, k, n)\n",
    "p = np.array(np.meshgrid(phi1, phi2))\n",
    "\n",
    "aa = np.linspace(0, .5, 8)\n",
    "print('c_11 = {}'.format(c[0, 0]))\n",
    "print('c_12 = {}'.format(c[0, 1]))\n",
    "print('c_21 = {}'.format(c[1, 0]))\n",
    "print('c_22 = {}'.format(c[1, 1]))\n",
    "print('chi = {}'.format(x[0]))\n",
    "print('chi\\' = {}'.format(x[1]))"
   ]
  },
  {
   "cell_type": "code",
   "execution_count": null,
   "metadata": {},
   "outputs": [],
   "source": [
    "a = .2\n",
    "fig, ax = plt.subplots(1, 2, figsize=(20, 10))\n",
    "D = lambda p: D0(p, a, x, c)\n",
    "l = np.array([[eigvals(D(p[:, i, j])) for i in range(n)] for j in range(n)])\n",
    "\n",
    "print(\"a = {}\".format(a))\n",
    "Cr = np.logical_or(l[:, :, 0].real>0, l[:, :, 1].real>0)\n",
    "Ci = l[:, :, 0].imag \n",
    "ax[0].pcolormesh(p[0], p[1], Cr)\n",
    "ax[1].pcolormesh(p[0], p[1], Ci)\n",
    "\n",
    "plt.show()\n"
   ]
  },
  {
   "cell_type": "code",
   "execution_count": null,
   "metadata": {},
   "outputs": [],
   "source": [
    "n = 1000\n",
    "k = 1.\n",
    "phi1 = np.linspace(-k, k, n)\n",
    "phi2 = np.linspace(-k, k, n)\n",
    "p = np.array(np.meshgrid(phi1, phi2))\n",
    "\n",
    "\n",
    "l1 = lambda phi, a : 1/2 * ( (D11(phi, a, x, c) + D22(phi, a, x, c)) + np.sqrt((D11(phi, a, x, c) - D22(phi, a, x, c))**2 + 4*D12(phi, a, x, c)*D21(phi, a, x, c) ) )\n",
    "l2 = lambda phi, a : 1/2 * ( (D11(phi, a, x, c) + D22(phi, a, x, c)) - np.sqrt((D11(phi, a, x, c) - D22(phi, a, x, c))**2 + 4*D12(phi, a, x, c)*D21(phi, a, x, c) ) )\n",
    "\n",
    "aa = np.linspace(0, 1., 15)\n",
    "\n",
    "for a in aa:\n",
    "    print(a)        \n",
    "    fig, ax = plt.subplots(1, 3, figsize=(20, 8))\n",
    "    Cr1 = (l1(p, a).real>0)\n",
    "    Cr2 = (l2(p, a).real>0)\n",
    "    Ci = l2(p, a).imag\n",
    "\n",
    "\n",
    "    ax[0].pcolormesh(p[0], p[1], Cr1)\n",
    "    ax[1].pcolormesh(p[0], p[1], Cr2)\n",
    "    ax[2].pcolormesh(p[0], p[1], Ci)\n",
    "\n",
    "    plt.show()"
   ]
  },
  {
   "cell_type": "code",
   "execution_count": null,
   "metadata": {},
   "outputs": [],
   "source": [
    "cii = .1\n",
    "cij = .5\n",
    "x0 = .5\n",
    "\n",
    "c = np.matrix([[cii, cij], [cij, cii]])\n",
    "x = np.array([-x0, x0])\n",
    "\n",
    "l1 = lambda phi, a : 1/2 * ( (D11(phi, a, x, c) + D22(phi, a, x, c)) + np.sqrt((D11(phi, a, x, c) - D22(phi, a, x, c))**2 + 4*D12(phi, a, x, c)*D21(phi, a, x, c) ) )\n",
    "l2 = lambda phi, a : 1/2 * ( (D11(phi, a, x, c) + D22(phi, a, x, c)) - np.sqrt((D11(phi, a, x, c) - D22(phi, a, x, c))**2 + 4*D12(phi, a, x, c)*D21(phi, a, x, c) ) )\n",
    "\n",
    "aa = np.linspace(0, 1., 15)\n",
    "\n",
    "for a in aa:\n",
    "    print(a)        \n",
    "    fig, ax = plt.subplots(1, 3, figsize=(20, 8))\n",
    "    Cr1 = (l1(p, a).real>0)\n",
    "    Cr2 = (l2(p, a).real>0)\n",
    "    Ci = l2(p, a).imag\n",
    "\n",
    "    ax[0].pcolormesh(p[0], p[1], Cr1)\n",
    "    ax[1].pcolormesh(p[0], p[1], Cr2)\n",
    "    ax[2].pcolormesh(p[0], p[1], Ci)\n",
    "\n",
    "    plt.show()"
   ]
  },
  {
   "cell_type": "code",
   "execution_count": null,
   "metadata": {},
   "outputs": [],
   "source": [
    "n = 2000\n",
    "k = 1.\n",
    "phi1 = np.linspace(-k, k, n)\n",
    "phi2 = np.linspace(-k, k, n)\n",
    "p = np.array(np.meshgrid(phi1, phi2))\n",
    "\n",
    "aa = np.linspace(0, .5, 15)\n",
    "\n",
    "for a in aa:\n",
    "    fig, ax = plt.subplots( figsize=(30, 30))\n",
    "\n",
    "    print(a)\n",
    "    Ci = l1(p, a).imag\n",
    "    Cr = ( l1(p, a).real>0) * l1(p, a).real\n",
    "    \n",
    "    # Cr = np.ma.masked_where(Ci, Cr)\n",
    "\n",
    "    Ci = np.ma.masked_where(Ci==0, Ci)\n",
    "    Cr = np.ma.masked_where(Cr==0, Cr)\n",
    "    ax.pcolormesh(p[0], p[1], Ci, alpha=0.7)\n",
    "    ax.pcolormesh(p[0], p[1], Cr, cmap=\"coolwarm\")\n",
    "    plt.show()"
   ]
  }
 ],
 "metadata": {
  "kernelspec": {
   "display_name": "Python 3.9.13 64-bit ('anaconda3')",
   "language": "python",
   "name": "python3"
  },
  "language_info": {
   "codemirror_mode": {
    "name": "ipython",
    "version": 3
   },
   "file_extension": ".py",
   "mimetype": "text/x-python",
   "name": "python",
   "nbconvert_exporter": "python",
   "pygments_lexer": "ipython3",
   "version": "3.9.13"
  },
  "orig_nbformat": 4,
  "vscode": {
   "interpreter": {
    "hash": "7151c2de660e94597f26099e76e1b16a5252bf64b42a36ebffc311cf199c80ec"
   }
  }
 },
 "nbformat": 4,
 "nbformat_minor": 2
}
